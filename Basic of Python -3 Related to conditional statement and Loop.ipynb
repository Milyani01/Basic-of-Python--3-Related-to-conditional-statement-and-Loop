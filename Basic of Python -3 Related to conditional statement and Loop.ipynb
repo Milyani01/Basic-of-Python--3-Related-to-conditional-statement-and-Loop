{
 "cells": [
  {
   "cell_type": "markdown",
   "id": "4ee46796",
   "metadata": {},
   "source": [
    "# Conditional Expression"
   ]
  },
  {
   "cell_type": "markdown",
   "id": "0295d38d",
   "metadata": {},
   "source": [
    "1. Write a program that takes a number as input and prints whether it's positive, negative, or zero."
   ]
  },
  {
   "cell_type": "code",
   "execution_count": 1,
   "id": "15aae310",
   "metadata": {},
   "outputs": [
    {
     "name": "stdout",
     "output_type": "stream",
     "text": [
      "Enter any positive, negative number = 2\n",
      "2 is Positive Number\n"
     ]
    }
   ],
   "source": [
    "taking_input=int(input(\"Enter any positive, negative number = \"))\n",
    "if taking_input==0:\n",
    "    print(\"Zero\")\n",
    "elif taking_input>0:\n",
    "    print(f'{taking_input} is Positive Number')\n",
    "else:\n",
    "    print(f'{taking_input} is Negative Number')\n"
   ]
  },
  {
   "cell_type": "markdown",
   "id": "2ba48572",
   "metadata": {},
   "source": [
    "2. Create a program that takes two numbers as input and prints the larger one."
   ]
  },
  {
   "cell_type": "code",
   "execution_count": null,
   "id": "79dd0ffe",
   "metadata": {},
   "outputs": [],
   "source": [
    "first_input=int(input(\"Enter First Number = \"))\n",
    "Second_input=int(input(\"Enter Second Number = \"))\n",
    "if first_input>Second_input:\n",
    "    print(f'{first_input} is Greater than {Second_input}')\n",
    "else:\n",
    "    print(f'{Second_input} is greater than {first_input}')"
   ]
  },
  {
   "cell_type": "markdown",
   "id": "cf7b5f5a",
   "metadata": {},
   "source": [
    "3. Write a program that checks if a given number is odd or even."
   ]
  },
  {
   "cell_type": "code",
   "execution_count": null,
   "id": "c6eafccf",
   "metadata": {},
   "outputs": [],
   "source": [
    "Taking_input=int(input(\"Enter any Number = \"))\n",
    "if Taking_input%2==0:\n",
    "    print(f'{Taking_input} is even Number')\n",
    "else:\n",
    "    print(f'{Taking_input} is odd Number')\n"
   ]
  },
  {
   "cell_type": "markdown",
   "id": "d4917e97",
   "metadata": {},
   "source": [
    "4. Create a program that takes a single alphabet as input and prints whether it's a vowel or a consonant."
   ]
  },
  {
   "cell_type": "code",
   "execution_count": null,
   "id": "db8493e8",
   "metadata": {},
   "outputs": [],
   "source": [
    "alphabet=input(\"Enter Single Alphabet = \")\n",
    "vowel=(\"a\",\"e\",\"i\",\"o\",\"u\")\n",
    "if alphabet in vowel:\n",
    "    print(f'{alphabet} is vowel')\n",
    "else:\n",
    "    print(f'{alphabet} is consonant')"
   ]
  },
  {
   "cell_type": "markdown",
   "id": "d5f483a3",
   "metadata": {},
   "source": [
    "5. Create a program that takes a person's age as input and prints whether they are a child, teenager, adult, or senior."
   ]
  },
  {
   "cell_type": "code",
   "execution_count": null,
   "id": "7082de45",
   "metadata": {},
   "outputs": [],
   "source": [
    "age=int(input(\"Enter Your Age = \"))\n",
    "if age in range(1,13):\n",
    "    print(\"As per Your age you are a child \")\n",
    "elif age in range(13,18):\n",
    "    print(\"As per Your age you are a teenager \")\n",
    "elif age in range(18,46):\n",
    "    print(\"As per Your age you are a adult \")\n",
    "else:\n",
    "    print(\"As per Your age you are a senior\")"
   ]
  },
  {
   "cell_type": "markdown",
   "id": "9669b037",
   "metadata": {},
   "source": [
    "6. Simulate a traffic light. Take the color as input and print whether it's safe to go, slow down, or stop."
   ]
  },
  {
   "cell_type": "code",
   "execution_count": null,
   "id": "c415b1de",
   "metadata": {},
   "outputs": [],
   "source": [
    "color=input(\"Red or Green or Yellow = \")\n",
    "if color==\"Red\":\n",
    "    print(f\"The Signal is {color}, Stop! \")\n",
    "elif color==\"Green\":\n",
    "    print(f\"The Signal is {color}, go! \")\n",
    "else:\n",
    "    print(f\"The Signal is {color}, go slow down! \")\n",
    "    \n"
   ]
  },
  {
   "cell_type": "markdown",
   "id": "f065883d",
   "metadata": {},
   "source": [
    " 7. Create a program that takes a student's score as input and prints their corresponding grade. Use the standard grading scale (A, B, C, D, F)."
   ]
  },
  {
   "cell_type": "code",
   "execution_count": null,
   "id": "cab92018",
   "metadata": {},
   "outputs": [],
   "source": [
    "score=int(input(\"Enter Your Score = \"))\n",
    "if score in range(80,101):\n",
    "    print(f'According to your socre = {score}, your grade is A')\n",
    "elif score in range(70,80):\n",
    "     print(f'According to your socre = {score}, your grade is B')\n",
    "elif score in range(50,70):\n",
    "     print(f'According to your socre = {score}, your grade is c')\n",
    "elif score in range(30,50):\n",
    "     print(f'According to your socre = {score}, your grade is D')\n",
    "else:\n",
    "     print(f'According to your socre = {score}, your grade is F')\n",
    "    "
   ]
  },
  {
   "cell_type": "markdown",
   "id": "282b955e",
   "metadata": {},
   "source": [
    "8. Write a program that checks whether a given year is a leap year or not. A leap year is divisible by 4, except for years that are divisible by 100. However, years divisible by 400 are leap years."
   ]
  },
  {
   "cell_type": "code",
   "execution_count": null,
   "id": "fb75e030",
   "metadata": {},
   "outputs": [],
   "source": [
    "enter_year=int(input(\"Enter Year = \"))\n",
    "if enter_year%4==0:\n",
    "    print(f'{enter_year} is leap year' )\n",
    "else:\n",
    "     print(f'{enter_year} is not leap year' )"
   ]
  },
  {
   "cell_type": "markdown",
   "id": "e49473e5",
   "metadata": {},
   "source": [
    "9. Write a function that checks whether a given word or phrase is a palindrome (reads the same backward as forward)."
   ]
  },
  {
   "cell_type": "code",
   "execution_count": null,
   "id": "58f00d83",
   "metadata": {},
   "outputs": [],
   "source": [
    "word=input(\"Enter any Phrase = \")\n",
    "if word==word[::-1]:\n",
    "    print(f'{word} is Polindrome word' )\n",
    "else:\n",
    "    print(f'{word} is not a polindrome word')\n"
   ]
  },
  {
   "cell_type": "markdown",
   "id": "6b313b85",
   "metadata": {},
   "source": [
    "10. Develop a program that calculates the cost of movie tickets based on the age of the viewer. The prices are as follows:\n",
    "\n",
    "    Children (0-12): $5\n",
    "\n",
    "    Teens (13-17): $8\n",
    "\n",
    "    Adults (18-64): $12\n",
    "\n",
    "    Seniors (65 and above): $7"
   ]
  },
  {
   "cell_type": "code",
   "execution_count": null,
   "id": "5272028c",
   "metadata": {},
   "outputs": [],
   "source": [
    "age=int(input(\"Enter Your age to know the cost of the movie teacket \"))\n",
    "if age in range(0,13):\n",
    "    print(f'The cost for your age is $5' )\n",
    "elif age in range(13,18):\n",
    "     print(f'The cost for your age is $8' )\n",
    "elif age in range(18,65):\n",
    "    print(f'The cost for your age is $12' )\n",
    "else:\n",
    "    print(f'The cost for your age is $7' )"
   ]
  },
  {
   "cell_type": "markdown",
   "id": "7c60c99c",
   "metadata": {},
   "source": [
    "# For Loop"
   ]
  },
  {
   "cell_type": "markdown",
   "id": "63ae5cc8",
   "metadata": {},
   "source": [
    "1. Use a for loop to print numbers from 1 to 5."
   ]
  },
  {
   "cell_type": "code",
   "execution_count": 6,
   "id": "75462d36",
   "metadata": {},
   "outputs": [
    {
     "name": "stdout",
     "output_type": "stream",
     "text": [
      "1\n",
      "2\n",
      "3\n",
      "4\n",
      "5\n"
     ]
    }
   ],
   "source": [
    "num=[1,2,3,4,5]\n",
    "for i in num:\n",
    "    print(i)"
   ]
  },
  {
   "cell_type": "code",
   "execution_count": 7,
   "id": "03f4f1bb",
   "metadata": {},
   "outputs": [
    {
     "name": "stdout",
     "output_type": "stream",
     "text": [
      "1\n",
      "2\n",
      "3\n",
      "4\n",
      "5\n"
     ]
    }
   ],
   "source": [
    "for i in range(1,6):\n",
    "    print(i)"
   ]
  },
  {
   "cell_type": "markdown",
   "id": "01a1494f",
   "metadata": {},
   "source": [
    "2. Calculate and print the sum of squares of numbers from 1 to 5 using a for loop."
   ]
  },
  {
   "cell_type": "code",
   "execution_count": 15,
   "id": "6065ac38",
   "metadata": {},
   "outputs": [
    {
     "name": "stdout",
     "output_type": "stream",
     "text": [
      "sum of square =  55\n"
     ]
    }
   ],
   "source": [
    "square=0\n",
    "for i in range(1,6):\n",
    "    square +=i**2\n",
    "print(\"sum of square = \",square)\n",
    "    "
   ]
  },
  {
   "cell_type": "code",
   "execution_count": 16,
   "id": "c0f48ccf",
   "metadata": {},
   "outputs": [
    {
     "name": "stdout",
     "output_type": "stream",
     "text": [
      "Sum of squares = 55\n"
     ]
    }
   ],
   "source": [
    "# using comprehension\n",
    "squares_sum = sum(i**2 for i in range(1, 6))\n",
    "print(\"Sum of squares =\", squares_sum)\n"
   ]
  },
  {
   "cell_type": "markdown",
   "id": "175f29d8",
   "metadata": {},
   "source": [
    "3. Write a program that takes a number as input and prints the first 5 multiples of that number using a for loop."
   ]
  },
  {
   "cell_type": "code",
   "execution_count": 12,
   "id": "b3e2a373",
   "metadata": {},
   "outputs": [
    {
     "name": "stdout",
     "output_type": "stream",
     "text": [
      "Enter any Number = 3\n",
      "3 X 1=3\n",
      "3 X 2=6\n",
      "3 X 3=9\n",
      "3 X 4=12\n",
      "3 X 5=15\n"
     ]
    }
   ],
   "source": [
    "num=int(input(\"Enter any Number = \"))\n",
    "for i in range(1,6):\n",
    "    multiple= num * i \n",
    "    print(f'{num} X {i}={multiple}')\n",
    "    "
   ]
  },
  {
   "cell_type": "markdown",
   "id": "b266ca1a",
   "metadata": {},
   "source": [
    "4. Take a number as input and use a for loop to print the multiplication table for that number from 1 to 10."
   ]
  },
  {
   "cell_type": "code",
   "execution_count": 15,
   "id": "a08aadc7",
   "metadata": {},
   "outputs": [
    {
     "name": "stdout",
     "output_type": "stream",
     "text": [
      "Enter any Number For Table creation4\n",
      "Table of 4 is,\n",
      "4 X 1 = 4\n",
      "4 X 2 = 8\n",
      "4 X 3 = 12\n",
      "4 X 4 = 16\n",
      "4 X 5 = 20\n",
      "4 X 6 = 24\n",
      "4 X 7 = 28\n",
      "4 X 8 = 32\n",
      "4 X 9 = 36\n",
      "4 X 10 = 40\n"
     ]
    }
   ],
   "source": [
    "num=int(input(\"Enter any Number For Table creation\"))\n",
    "print(f'Table of {num} is,')\n",
    "for i in range(1,11):\n",
    "    multiple = num * i\n",
    "    print(f'{num} X {i} = {multiple}')"
   ]
  },
  {
   "cell_type": "markdown",
   "id": "b64e9942",
   "metadata": {},
   "source": [
    "5. Develop a Python program that checks whether a given number is prime or not using a for loop."
   ]
  },
  {
   "cell_type": "code",
   "execution_count": 31,
   "id": "d2a1aa61",
   "metadata": {},
   "outputs": [
    {
     "name": "stdout",
     "output_type": "stream",
     "text": [
      "Enter Any Number = 101\n",
      "101 is prime number\n"
     ]
    }
   ],
   "source": [
    "num=int(input(\"Enter Any Number = \"))\n",
    "prime=True\n",
    "for i in range(2,num):\n",
    "    if num%2==0:\n",
    "        prime=False\n",
    "        break\n",
    "if(prime==True):\n",
    "    print(f\"{num} is prime number\")\n",
    "else:\n",
    "          print(f\"{num} is not prime number\")"
   ]
  },
  {
   "cell_type": "markdown",
   "id": "d39387da",
   "metadata": {},
   "source": [
    "6. Create a Python program to find the largest element in a list using a for loop."
   ]
  },
  {
   "cell_type": "code",
   "execution_count": 47,
   "id": "9911fdcb",
   "metadata": {},
   "outputs": [
    {
     "name": "stdout",
     "output_type": "stream",
     "text": [
      "3657\n"
     ]
    }
   ],
   "source": [
    "given_list=[12,4,3,5,63,23,56,100,10,3657]\n",
    "initial_num=given_list[0]\n",
    "for i in given_list:\n",
    "    if i > initial_num:\n",
    "        initial_num=i\n",
    "print(initial_num)\n",
    "    \n",
    "    \n",
    "    "
   ]
  },
  {
   "cell_type": "markdown",
   "id": "b7a3ec34",
   "metadata": {},
   "source": [
    "7. Write a Python program to reverse a given string using a for loop."
   ]
  },
  {
   "cell_type": "code",
   "execution_count": 65,
   "id": "4e8baa65",
   "metadata": {},
   "outputs": [
    {
     "name": "stdout",
     "output_type": "stream",
     "text": [
      "Enter any word to know the reverse of that = milyani patil\n",
      "The reverse of l is litap inaylim\n"
     ]
    }
   ],
   "source": [
    "string=input(\"Enter any word to know the reverse of that = \")\n",
    "for word in string:\n",
    "    reverse=string[::-1]\n",
    "print(f\"The reverse of {word} is {reverse}\")"
   ]
  },
  {
   "cell_type": "markdown",
   "id": "56721d90",
   "metadata": {},
   "source": [
    "8. Develop a Python program that calculates the sum of all numbers from 1 to 100 using a for loop."
   ]
  },
  {
   "cell_type": "code",
   "execution_count": 66,
   "id": "44116216",
   "metadata": {},
   "outputs": [
    {
     "name": "stdout",
     "output_type": "stream",
     "text": [
      "5050\n"
     ]
    }
   ],
   "source": [
    "sum_of_all=0\n",
    "for i in range(1,101):\n",
    "    sum_of_all=sum_of_all+i\n",
    "    i=i+1\n",
    "print(sum_of_all)"
   ]
  },
  {
   "cell_type": "markdown",
   "id": "bc863749",
   "metadata": {},
   "source": [
    "9. Write a Python program to find the factorial of a number using a for loop"
   ]
  },
  {
   "cell_type": "code",
   "execution_count": 78,
   "id": "a9727370",
   "metadata": {},
   "outputs": [
    {
     "name": "stdout",
     "output_type": "stream",
     "text": [
      "Enter any Number : 4\n",
      "24\n"
     ]
    }
   ],
   "source": [
    "factorial=1\n",
    "integer=int(input(\"Enter any Number : \"))\n",
    "for i in range(1,integer+1):\n",
    "    factorial=factorial*i\n",
    "    integer=integer-1\n",
    "print(factorial)\n",
    "    "
   ]
  },
  {
   "cell_type": "markdown",
   "id": "a7166f7b",
   "metadata": {},
   "source": [
    "# While Loop "
   ]
  },
  {
   "cell_type": "markdown",
   "id": "87c9211b",
   "metadata": {},
   "source": [
    "1. Write a program that prints numbers from 1 to 10 using a while loop."
   ]
  },
  {
   "cell_type": "code",
   "execution_count": 4,
   "id": "7cae2291",
   "metadata": {},
   "outputs": [
    {
     "name": "stdout",
     "output_type": "stream",
     "text": [
      "1\n",
      "2\n",
      "3\n",
      "4\n",
      "5\n",
      "6\n",
      "7\n",
      "8\n",
      "9\n",
      "10\n"
     ]
    }
   ],
   "source": [
    "i=1\n",
    "while i<=10:\n",
    "    print(i)\n",
    "    i=i+1\n",
    "    "
   ]
  },
  {
   "cell_type": "markdown",
   "id": "9cedca91",
   "metadata": {},
   "source": [
    "2. Create a program that asks the user to enter a number and then prints the multiplication table of that number using a while loop."
   ]
  },
  {
   "cell_type": "code",
   "execution_count": 22,
   "id": "b8cb2182",
   "metadata": {},
   "outputs": [
    {
     "name": "stdout",
     "output_type": "stream",
     "text": [
      "Enter Number For making table = 2\n",
      "2 X 1 = 2\n",
      "2 X 2 = 4\n",
      "2 X 3 = 6\n",
      "2 X 4 = 8\n",
      "2 X 5 = 10\n",
      "2 X 6 = 12\n",
      "2 X 7 = 14\n",
      "2 X 8 = 16\n",
      "2 X 9 = 18\n",
      "2 X 10 = 20\n"
     ]
    }
   ],
   "source": [
    "user_input=int(input(\"Enter Number For making table = \"))\n",
    "i=1\n",
    "while i<=10:\n",
    "    table=user_input*i\n",
    "    print(f\"{user_input} X {i} = {table}\")\n",
    "    i=i+1"
   ]
  },
  {
   "cell_type": "markdown",
   "id": "61755995",
   "metadata": {},
   "source": [
    "3. Develop a program that calculates the factorial of a given number using a while loop."
   ]
  },
  {
   "cell_type": "code",
   "execution_count": 51,
   "id": "6a4ef537",
   "metadata": {},
   "outputs": [
    {
     "name": "stdout",
     "output_type": "stream",
     "text": [
      "Enter Number to know Factorial of that = 4\n",
      " Factorial of Number is = 24\n"
     ]
    }
   ],
   "source": [
    "num=int(input(\"Enter Number to know Factorial of that = \"))\n",
    "factorial=1\n",
    "while (num>=1):\n",
    "    factorial=factorial*num\n",
    "    num=num-1\n",
    "print(f\" Factorial of Number is =\",factorial)"
   ]
  },
  {
   "cell_type": "markdown",
   "id": "bb774dd1",
   "metadata": {},
   "source": [
    "4. Write a program that prompts the user to enter a series of numbers until they enter a negative number. Then, the program should print the sum of all the positive numbers entered."
   ]
  },
  {
   "cell_type": "code",
   "execution_count": 9,
   "id": "7b7e89ce",
   "metadata": {},
   "outputs": [
    {
     "name": "stdout",
     "output_type": "stream",
     "text": [
      "Enter Any Number (upto negative number) = 3\n",
      "Enter Any Number (upto negative number) = 4\n",
      "Enter Any Number (upto negative number) = -1\n",
      "7\n"
     ]
    }
   ],
   "source": [
    "total_sum=0\n",
    "while True:\n",
    "    user_input=int(input(\"Enter Any Number (upto negative number) = \"))\n",
    "    if user_input<0:\n",
    "        break\n",
    "    total_sum=total_sum+user_input\n",
    "print(total_sum)\n",
    "        \n",
    "        \n",
    "\n",
    "    "
   ]
  },
  {
   "cell_type": "markdown",
   "id": "a29f619c",
   "metadata": {},
   "source": [
    " 5. Implement a simple guessing game where the program generates a random number between 1 and 100, and the user has to guess the number. The program should provide hints (higher/lower) until the user guesses the correct number, using a while loop."
   ]
  },
  {
   "cell_type": "code",
   "execution_count": 18,
   "id": "ea166501",
   "metadata": {},
   "outputs": [
    {
     "name": "stdout",
     "output_type": "stream",
     "text": [
      "Guess any random number between 1 to 100 = 4\n",
      "Try with higher Number, \n",
      "Guess any random number between 1 to 100 = 56\n",
      "Try with lower Number, \n",
      "Guess any random number between 1 to 100 = 46\n",
      "Try with lower Number, \n",
      "Guess any random number between 1 to 100 = 36\n",
      "Try with higher Number, \n",
      "Guess any random number between 1 to 100 = 37\n",
      "Try with higher Number, \n",
      "Guess any random number between 1 to 100 = 40\n",
      "Try with higher Number, \n",
      "Guess any random number between 1 to 100 = 45\n",
      "Try with lower Number, \n",
      "Guess any random number between 1 to 100 = 43\n",
      "Try with higher Number, \n",
      "Guess any random number between 1 to 100 = 44\n",
      "congo\n"
     ]
    }
   ],
   "source": [
    "import random\n",
    "secret_number=random.randint(1,100)\n",
    "guess=None\n",
    "while True:\n",
    "    guess=int(input(\"Guess any random number between 1 to 100 = \"))\n",
    "    if guess==secret_number:\n",
    "        print(\"congo\")\n",
    "        break\n",
    "    elif guess<secret_number:\n",
    "            print(\"Try with higher Number, \")\n",
    "    else:\n",
    "        print(\"Try with lower Number, \")"
   ]
  },
  {
   "cell_type": "markdown",
   "id": "6f9d3d59",
   "metadata": {},
   "source": [
    "6. Create a program that prompts the user to enter a password. Keep asking for the password until the user enters the correct password \"password123\". Once the correct password is entered, print a success message."
   ]
  },
  {
   "cell_type": "code",
   "execution_count": 25,
   "id": "ff1f8105",
   "metadata": {},
   "outputs": [
    {
     "name": "stdout",
     "output_type": "stream",
     "text": [
      "Enter Password = password123\n",
      "congo, Your Password is correct! \n"
     ]
    }
   ],
   "source": [
    "true_pass=\"password123\"\n",
    "while True:\n",
    "    pass_input=input(\"Enter Password = \")\n",
    "    if pass_input==true_pass:\n",
    "        print(\"congo, Your Password is correct! \")\n",
    "        break\n",
    "    else:\n",
    "        print(\"Password is wrong,Try Again! \")\n",
    "    "
   ]
  },
  {
   "cell_type": "code",
   "execution_count": null,
   "id": "179bb47d",
   "metadata": {},
   "outputs": [],
   "source": []
  }
 ],
 "metadata": {
  "kernelspec": {
   "display_name": "Python 3 (ipykernel)",
   "language": "python",
   "name": "python3"
  },
  "language_info": {
   "codemirror_mode": {
    "name": "ipython",
    "version": 3
   },
   "file_extension": ".py",
   "mimetype": "text/x-python",
   "name": "python",
   "nbconvert_exporter": "python",
   "pygments_lexer": "ipython3",
   "version": "3.11.5"
  }
 },
 "nbformat": 4,
 "nbformat_minor": 5
}
